{
 "cells": [
  {
   "cell_type": "markdown",
   "metadata": {},
   "source": [
    "# Задание 1"
   ]
  },
  {
   "cell_type": "code",
   "execution_count": 1,
   "metadata": {},
   "outputs": [
    {
     "name": "stdout",
     "output_type": "stream",
     "text": [
      "t\n"
     ]
    }
   ],
   "source": [
    "word = 'testing'\n",
    "\n",
    "if len(word) % 2 == 0:\n",
    "    print (word[int(len(word)/2-1):int(len(word)/2+1)])\n",
    "else:\n",
    "    print (word[int(len(word)/2)])"
   ]
  },
  {
   "cell_type": "markdown",
   "metadata": {},
   "source": [
    "# Задание 2"
   ]
  },
  {
   "cell_type": "code",
   "execution_count": 2,
   "metadata": {},
   "outputs": [
    {
     "name": "stdout",
     "output_type": "stream",
     "text": [
      "Введите число: 1\n",
      "Введите число: 4\n",
      "Введите число: 6\n",
      "Введите число: 0\n",
      "Результат: \n",
      "11\n"
     ]
    }
   ],
   "source": [
    "number = int(input('Введите число: '))\n",
    "sum = 0\n",
    "\n",
    "while number != 0:\n",
    "    sum += number\n",
    "    number = int(input('Введите число: '))\n",
    "    \n",
    "print ('Результат: ')\n",
    "print (sum)"
   ]
  },
  {
   "cell_type": "markdown",
   "metadata": {},
   "source": [
    "# Задание 3"
   ]
  },
  {
   "cell_type": "code",
   "execution_count": 3,
   "metadata": {},
   "outputs": [
    {
     "name": "stdout",
     "output_type": "stream",
     "text": [
      "Внимание, кто-то может остаться без пары!\n"
     ]
    }
   ],
   "source": [
    "boys = ['Peter', 'Alex', 'John', 'Arthur', 'Richard', 'Michael']\n",
    "girls = ['Kate', 'Liza', 'Kira', 'Emma', 'Trisha']\n",
    "\n",
    "sorted_boys = sorted(boys)\n",
    "sorted_girls = sorted(girls)\n",
    "\n",
    "if len(sorted_boys) == len(sorted_girls):\n",
    "    for boy, girl in zip(sorted_boys, sorted_girls):\n",
    "        print ('Идеальная пара:', boy, 'и', girl)\n",
    "else:\n",
    "    print ('Внимание, кто-то может остаться без пары!')"
   ]
  },
  {
   "cell_type": "markdown",
   "metadata": {},
   "source": [
    "# Задание 4"
   ]
  },
  {
   "cell_type": "code",
   "execution_count": 1,
   "metadata": {},
   "outputs": [
    {
     "name": "stdout",
     "output_type": "stream",
     "text": [
      "Thailand - 57.16507936507936 C\n",
      "Germany - 39.06222222222222 C\n",
      "Russia - 20.907936507936512 C\n",
      "Poland - 35.822222222222216 C\n"
     ]
    }
   ],
   "source": [
    "countries_temperature = [\n",
    "    ['Thailand', [75.2, 77, 78.8, 73.4, 68, 75.2, 77]],\n",
    "    ['Germany', [57.2, 55.4, 59, 59, 53.6]],\n",
    "    ['Russia', [35.6, 37.4, 39.2, 41, 42.8, 39.2, 35.6]],\n",
    "    ['Poland', [50, 50, 53.6, 57.2, 55.4, 55.4]]\n",
    "]\n",
    "\n",
    "for element in countries_temperature:\n",
    "    print (element[0], '-', str(sum(element[1])/len(element[1]) - 32 / 1.8), 'C')\n",
    "    \n",
    "# Ответ получился не совсем таким, как на примере, потому что sum со списком не работает\n",
    "# Я додумалась только перевести в строку, чтобы посчитать, а со строкой не работает round\n",
    "# Буду благодарна, если подскажете другой вариант решения этой проблемы :)"
   ]
  }
 ],
 "metadata": {
  "kernelspec": {
   "display_name": "Python 3",
   "language": "python",
   "name": "python3"
  },
  "language_info": {
   "codemirror_mode": {
    "name": "ipython",
    "version": 3
   },
   "file_extension": ".py",
   "mimetype": "text/x-python",
   "name": "python",
   "nbconvert_exporter": "python",
   "pygments_lexer": "ipython3",
   "version": "3.8.5"
  }
 },
 "nbformat": 4,
 "nbformat_minor": 4
}
