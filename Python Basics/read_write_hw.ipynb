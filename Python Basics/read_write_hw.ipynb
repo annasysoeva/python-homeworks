{
 "cells": [
  {
   "cell_type": "markdown",
   "metadata": {},
   "source": [
    "# Задание 1"
   ]
  },
  {
   "cell_type": "code",
   "execution_count": 1,
   "metadata": {},
   "outputs": [],
   "source": [
    "import json"
   ]
  },
  {
   "cell_type": "code",
   "execution_count": 2,
   "metadata": {},
   "outputs": [],
   "source": [
    "purchases = {}\n",
    "\n",
    "with open('purchase_log.txt', 'r') as f:\n",
    "    f.readline()\n",
    "    for line in f:\n",
    "        new_dict = json.loads(line.strip())\n",
    "        purchases[new_dict['user_id']] = new_dict['category']"
   ]
  },
  {
   "cell_type": "code",
   "execution_count": null,
   "metadata": {},
   "outputs": [],
   "source": [
    "purchases"
   ]
  },
  {
   "cell_type": "markdown",
   "metadata": {},
   "source": [
    "# Задание 2"
   ]
  },
  {
   "cell_type": "code",
   "execution_count": null,
   "metadata": {},
   "outputs": [],
   "source": [
    "with open('visit_log.csv', 'r') as f:\n",
    "    with open ('funnel.csv', 'w') as f2w:\n",
    "        for line in f:\n",
    "            dict_id = line.strip().split(',')[0]\n",
    "            if dict_id in purchases.keys():\n",
    "                print(line.strip() + ',' + purchases[dict_id] + '\\n')\n",
    "                f2w.write(line.strip() + ',' + purchases[dict_id] + '\\n')"
   ]
  }
 ],
 "metadata": {
  "kernelspec": {
   "display_name": "Python 3",
   "language": "python",
   "name": "python3"
  },
  "language_info": {
   "codemirror_mode": {
    "name": "ipython",
    "version": 3
   },
   "file_extension": ".py",
   "mimetype": "text/x-python",
   "name": "python",
   "nbconvert_exporter": "python",
   "pygments_lexer": "ipython3",
   "version": "3.8.5"
  }
 },
 "nbformat": 4,
 "nbformat_minor": 4
}
