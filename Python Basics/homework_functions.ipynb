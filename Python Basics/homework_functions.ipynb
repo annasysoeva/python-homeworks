{
 "cells": [
  {
   "cell_type": "code",
   "execution_count": 1,
   "metadata": {},
   "outputs": [],
   "source": [
    "documents = [\n",
    " {'type': 'passport', 'number': '2207 876234', 'name': 'Василий Гупкин'},\n",
    " {'type': 'invoice', 'number': '11-2', 'name': 'Геннадий Покемонов'},\n",
    " {'type': 'insurance', 'number': '10006', 'name': 'Аристарх Павлов'}\n",
    "]\n",
    "\n",
    "directories = {\n",
    " '1': ['2207 876234', '11-2'],\n",
    " '2': ['10006'],\n",
    " '3': []\n",
    "}"
   ]
  },
  {
   "cell_type": "code",
   "execution_count": 2,
   "metadata": {},
   "outputs": [],
   "source": [
    "def get_name():\n",
    "    in_docs = False\n",
    "    num = input(\"Введите номер документа:\")\n",
    "    \n",
    "    for dicts in documents:\n",
    "        if  dicts[\"number\"] == num:\n",
    "            print(dicts[\"name\"])\n",
    "            in_docs = True\n",
    "            \n",
    "    if not in_docs:\n",
    "            print(\"Документ не найден в базе\")"
   ]
  },
  {
   "cell_type": "code",
   "execution_count": 3,
   "metadata": {},
   "outputs": [],
   "source": [
    "def get_shelf():\n",
    "    num = input(\"Введите номер документа:\")\n",
    "    \n",
    "    for k in directories:\n",
    "        if num in directories[k]:\n",
    "            return 'Документ хранится на полке: ', k\n",
    "    return 'Документ не найден в базе'"
   ]
  },
  {
   "cell_type": "code",
   "execution_count": 4,
   "metadata": {},
   "outputs": [],
   "source": [
    "def all_info():  \n",
    "    for docs in documents:\n",
    "        typ = docs['type']\n",
    "        number = docs['number']\n",
    "        name = docs['name']\n",
    "        print('№: ', number, 'тип: ', typ, 'владелец: ', name, 'полка хранения: ', shelf_info(docs['number']))\n",
    "\n",
    "def shelf_info(num):\n",
    "    return ','.join([k for k,v in directories.items() if num in v])"
   ]
  },
  {
   "cell_type": "code",
   "execution_count": 5,
   "metadata": {},
   "outputs": [],
   "source": [
    "def add_shelf():\n",
    "    new_shelf = input('Введите номер полки: ')\n",
    "    \n",
    "    for dicts in directories.items():\n",
    "        if new_shelf in dicts[0]:\n",
    "            return(print(f\"Такая полка уже существует. Текущий перечень полок: {list(directories.keys())}\"))\n",
    "    else:\n",
    "        directories[new_shelf] = []\n",
    "        return(print(f\"Полка добавлена. Текущий перечень полок: {list(directories.keys())}\")) "
   ]
  },
  {
   "cell_type": "code",
   "execution_count": 6,
   "metadata": {},
   "outputs": [],
   "source": [
    "def del_shelf():\n",
    "    del_shelf = input('Введите номер полки: ')\n",
    "    \n",
    "    for k, v in directories.items():\n",
    "        if del_shelf not in directories:\n",
    "            return(print(f\"Такой полки не существует. Текущий перечень полок: {list(directories.keys())}\"))\n",
    "        elif del_shelf in directories and directories.get(del_shelf) == []:\n",
    "            del(directories[del_shelf])\n",
    "            return(print(f\"Полка удалена. Текущий перечень полок: {list(directories.keys())}\"))\n",
    "        else:\n",
    "            return(print(f\"На полке есть документы, удалите их перед удалением полки. Текущий перечень полок: {list(directories.keys())}\"))"
   ]
  },
  {
   "cell_type": "code",
   "execution_count": 7,
   "metadata": {},
   "outputs": [
    {
     "name": "stdout",
     "output_type": "stream",
     "text": [
      "Введите комманду: p\n",
      "p\n",
      "Введите номер документа:11-2\n",
      "Геннадий Покемонов\n",
      "Введите комманду: s\n",
      "s\n",
      "Введите номер документа:11-2\n",
      "('Документ хранится на полке: ', '1')\n",
      "Введите комманду: l\n",
      "l\n",
      "№:  2207 876234 тип:  passport владелец:  Василий Гупкин полка хранения:  1\n",
      "№:  11-2 тип:  invoice владелец:  Геннадий Покемонов полка хранения:  1\n",
      "№:  10006 тип:  insurance владелец:  Аристарх Павлов полка хранения:  2\n",
      "Введите комманду: q\n",
      "q\n"
     ]
    }
   ],
   "source": [
    "prompt = 'Введите комманду: '\n",
    "message = \"\"\n",
    "while message != 'q':\n",
    "    message = input(prompt)\n",
    "    print(message)\n",
    "    \n",
    "    if message == 'p':\n",
    "        get_name()\n",
    "    elif message == 's':\n",
    "        print(get_shelf())\n",
    "    elif message == 'l':\n",
    "        all_info()\n",
    "    elif message == 'ads':\n",
    "        add_shelf()\n",
    "    elif message == 'ds':\n",
    "        del_shelf()"
   ]
  }
 ],
 "metadata": {
  "kernelspec": {
   "display_name": "Python 3",
   "language": "python",
   "name": "python3"
  },
  "language_info": {
   "codemirror_mode": {
    "name": "ipython",
    "version": 3
   },
   "file_extension": ".py",
   "mimetype": "text/x-python",
   "name": "python",
   "nbconvert_exporter": "python",
   "pygments_lexer": "ipython3",
   "version": "3.8.5"
  }
 },
 "nbformat": 4,
 "nbformat_minor": 4
}
