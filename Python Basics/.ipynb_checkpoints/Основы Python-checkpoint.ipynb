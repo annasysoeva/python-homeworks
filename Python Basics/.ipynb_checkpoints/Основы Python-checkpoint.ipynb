{
 "cells": [
  {
   "cell_type": "markdown",
   "metadata": {},
   "source": [
    "# Задание 1"
   ]
  },
  {
   "cell_type": "markdown",
   "metadata": {},
   "source": [
    "Даны 2 переменных, в которых хранятся строки произвольной длины: phrase_1 и phrase_2.  \n",
    "Напишите код, который проверяет какая из этих строк длиннее."
   ]
  },
  {
   "cell_type": "code",
   "execution_count": 9,
   "metadata": {},
   "outputs": [
    {
     "name": "stdout",
     "output_type": "stream",
     "text": [
      "Фраза 1 длиннее фразы 2\n"
     ]
    }
   ],
   "source": [
    "phrase_1 = \"Насколько было бы проще писать программы, если бы не заказчики\"\n",
    "phrase_2 = \"640Кб должно хватить для любых задач. Билл Гейтс (по легенде)\"\n",
    "\n",
    "if len(phrase_1) > len(phrase_2):\n",
    "    print(\"Фраза 1 длиннее фразы 2\")\n",
    "elif len(phrase_1) < len(phrase_2):\n",
    "    print(\"Фраза 2 длиннее фразы 1\")\n",
    "else:\n",
    "    print(\"Фразы равной длины\")"
   ]
  },
  {
   "cell_type": "markdown",
   "metadata": {},
   "source": [
    "# Задание 2"
   ]
  },
  {
   "cell_type": "markdown",
   "metadata": {},
   "source": [
    "Дана переменная, в которой хранится четырехзначное число (год). Необходимо написать программу, которая выведет, является ли данный год високосным или обычным."
   ]
  },
  {
   "cell_type": "code",
   "execution_count": 10,
   "metadata": {},
   "outputs": [
    {
     "name": "stdout",
     "output_type": "stream",
     "text": [
      "2021\n",
      "Обычный год\n"
     ]
    }
   ],
   "source": [
    "year = int(input())\n",
    "if (year % 4 == 0) and (year % 100 != 0) or (year % 400 == 0):\n",
    "    print('Високосный год')\n",
    "else:\n",
    "    print('Обычный год')"
   ]
  },
  {
   "cell_type": "markdown",
   "metadata": {},
   "source": [
    "# Задание 3"
   ]
  },
  {
   "cell_type": "markdown",
   "metadata": {},
   "source": [
    "Необходимо написать программу, которая будет запрашивать у пользователя месяц и дату рождения и выводить соответствующий знак зодиака."
   ]
  },
  {
   "cell_type": "code",
   "execution_count": 11,
   "metadata": {},
   "outputs": [
    {
     "name": "stdout",
     "output_type": "stream",
     "text": [
      "Введите день: 9\n",
      "Введите месяц: Ноябрь\n",
      "Ваш знак зодиака: Скорпион\n"
     ]
    }
   ],
   "source": [
    "day = int(input('Введите день: '))\n",
    "month = str(input('Введите месяц: '))\n",
    "\n",
    "if (day >= 23 and month == 'Декабрь') or (day <= 20 and month == 'Январь'):\n",
    "    print('Ваш знак зодиака: Козерог')\n",
    "elif (day >= 21 and month == 'Январь') or (day <= 19 and month == 'Февраль'):\n",
    "    print('Ваш знак зодиака: Водолей')\n",
    "elif (day >= 20 and month == 'Февраль') or (day <= 20 and month == 'Март'):\n",
    "    print('Ваш знак зодиака: Рыбы')\n",
    "elif (day >= 21 and month == 'Март') or (day <= 20 and month == 'Апрель'):\n",
    "    print('Ваш знак зодиака: Овен')\n",
    "elif (day >= 21 and month == 'Апрель') or (day <= 21 and month == 'Май'):\n",
    "    print('Ваш знак зодиака: Телец')\n",
    "elif (day >= 22 and month == 'Май') or (day <= 21 and month == 'Июнь'):\n",
    "    print('Ваш знак зодиака: Близнецы')\n",
    "elif (day >= 22 and month == 'Июнь') or (day <= 22 and month == 'Июль'):\n",
    "    print('Ваш знак зодиака: Рак')\n",
    "elif (day >= 23 and month == 'Июль') or (day <= 23 and month == 'Август'):\n",
    "    print('Ваш знак зодиака: Лев')\n",
    "elif (day >= 24 and month == 'Август') or (day <= 23 and month == 'Сентябрь'):\n",
    "    print('Ваш знак зодиака: Дева')\n",
    "elif (day >= 24 and month == 'Сентябрь') or (day <= 23 and month == 'Октябрь'):\n",
    "    print('Ваш знак зодиака: Весы')\n",
    "elif (day >= 24 and month == 'Октябрь') or (day <= 22 and month == 'Ноябрь'):\n",
    "    print('Ваш знак зодиака: Скорпион')\n",
    "else:\n",
    "    print('Ваш знак зодиака: Стрелец')"
   ]
  },
  {
   "cell_type": "markdown",
   "metadata": {},
   "source": [
    "# Задание 4"
   ]
  },
  {
   "cell_type": "markdown",
   "metadata": {},
   "source": [
    "Вам нужно написать программу для подбора упаковок по размерам товара. Размеры (ширина, длина, высота) хранятся в переменных (в сантиметрах):\n",
    "\n",
    "Используйте следующие правила:\n",
    "\n",
    "если каждое из трех измерений менее или равно 15 сантиметрам, то выведите на экран “Коробка №1”;   \n",
    "если хотя бы одно из измерений больше 15 сантиметров, но менее 50 сантиметров, то выводите “Коробка №2”;   \n",
    "если длина товара больше 2 метров, то выводите “Упаковка для лыж”;   \n",
    "во всех остальных случаях выводите “Стандартная коробка №3”.   "
   ]
  },
  {
   "cell_type": "code",
   "execution_count": 12,
   "metadata": {},
   "outputs": [
    {
     "name": "stdout",
     "output_type": "stream",
     "text": [
      "Коробка №2\n"
     ]
    }
   ],
   "source": [
    "width = 5\n",
    "length = 20\n",
    "height = 45\n",
    "\n",
    "if width < 15 and length < 15 and height < 15:\n",
    "    print('Коробка №1')\n",
    "elif length > 200:\n",
    "    print('Упаковка для лыж')\n",
    "elif 15 < width < 50 or 15 < length < 50 or 15 < height < 50:\n",
    "    print('Коробка №2')\n",
    "else:\n",
    "    print('Стандартная коробка №3')"
   ]
  }
 ],
 "metadata": {
  "kernelspec": {
   "display_name": "Python 3",
   "language": "python",
   "name": "python3"
  },
  "language_info": {
   "codemirror_mode": {
    "name": "ipython",
    "version": 3
   },
   "file_extension": ".py",
   "mimetype": "text/x-python",
   "name": "python",
   "nbconvert_exporter": "python",
   "pygments_lexer": "ipython3",
   "version": "3.8.5"
  }
 },
 "nbformat": 4,
 "nbformat_minor": 4
}
