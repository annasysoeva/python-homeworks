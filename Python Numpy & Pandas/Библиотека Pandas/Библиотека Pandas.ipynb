{
 "cells": [
  {
   "cell_type": "markdown",
   "metadata": {},
   "source": [
    "# Задание 1"
   ]
  },
  {
   "cell_type": "markdown",
   "metadata": {},
   "source": [
    "Скачайте с сайта grouplens.org...movielens/ датасет любого размера. Определите какому фильму было выставлено больше всего оценок 5.0."
   ]
  },
  {
   "cell_type": "code",
   "execution_count": 1,
   "metadata": {},
   "outputs": [],
   "source": [
    "import pandas as pd"
   ]
  },
  {
   "cell_type": "code",
   "execution_count": 2,
   "metadata": {},
   "outputs": [
    {
     "data": {
      "text/html": [
       "<div>\n",
       "<style scoped>\n",
       "    .dataframe tbody tr th:only-of-type {\n",
       "        vertical-align: middle;\n",
       "    }\n",
       "\n",
       "    .dataframe tbody tr th {\n",
       "        vertical-align: top;\n",
       "    }\n",
       "\n",
       "    .dataframe thead th {\n",
       "        text-align: right;\n",
       "    }\n",
       "</style>\n",
       "<table border=\"1\" class=\"dataframe\">\n",
       "  <thead>\n",
       "    <tr style=\"text-align: right;\">\n",
       "      <th></th>\n",
       "      <th>userId</th>\n",
       "      <th>rating</th>\n",
       "      <th>timestamp</th>\n",
       "    </tr>\n",
       "    <tr>\n",
       "      <th>movieId</th>\n",
       "      <th></th>\n",
       "      <th></th>\n",
       "      <th></th>\n",
       "    </tr>\n",
       "  </thead>\n",
       "  <tbody>\n",
       "    <tr>\n",
       "      <th>318</th>\n",
       "      <td>170</td>\n",
       "      <td>170</td>\n",
       "      <td>170</td>\n",
       "    </tr>\n",
       "  </tbody>\n",
       "</table>\n",
       "</div>"
      ],
      "text/plain": [
       "         userId  rating  timestamp\n",
       "movieId                           \n",
       "318         170     170        170"
      ]
     },
     "execution_count": 2,
     "metadata": {},
     "output_type": "execute_result"
    }
   ],
   "source": [
    "data = pd.read_csv('ratings.csv')\n",
    "res = data.loc[data['rating'] == 5.0].groupby('movieId').count()\n",
    "res.sort_values(by = 'rating', ascending = False).head(1)"
   ]
  },
  {
   "cell_type": "markdown",
   "metadata": {},
   "source": [
    "# Задание 2"
   ]
  },
  {
   "cell_type": "markdown",
   "metadata": {},
   "source": [
    "По данным файла power.csv посчитайте суммарное потребление стран Прибалтики (Латвия, Литва и Эстония) категорий 4, 12 и 21 за период с 2005 по 2010 года. Не учитывайте в расчетах отрицательные значения quantity."
   ]
  },
  {
   "cell_type": "code",
   "execution_count": 4,
   "metadata": {},
   "outputs": [
    {
     "name": "stdout",
     "output_type": "stream",
     "text": [
      "240580.0\n"
     ]
    }
   ],
   "source": [
    "power = pd.read_csv('power.csv')\n",
    "\n",
    "# выбор периода с 2005 по 2010 год + отсеивание отрицательных значений\n",
    "filt = power[(power['year'] >= 2005) & (power['year'] <= 2010) & (power['quantity'] > 0)] \n",
    "\n",
    "# фильтрация по нужным категориям\n",
    "cat = filt[filt.category.isin([4, 12, 21])]\n",
    "\n",
    "# фильтрация по нужным странам\n",
    "country = cat[cat.country.str.contains('|'.join(['Lat', 'Lit', 'Est']))]\n",
    "\n",
    "# суммарное потребление \n",
    "sum_q = country['quantity'].sum()\n",
    "\n",
    "print(sum_q)"
   ]
  },
  {
   "cell_type": "markdown",
   "metadata": {},
   "source": [
    "# Задание 3"
   ]
  },
  {
   "cell_type": "markdown",
   "metadata": {},
   "source": [
    "Выберите страницу любого сайта с табличными данными. Импортируйте таблицы в pandas dataframe."
   ]
  },
  {
   "cell_type": "code",
   "execution_count": 6,
   "metadata": {},
   "outputs": [],
   "source": [
    "url = 'https://www.finanz.ru/valyuty/eur-usd'\n",
    "\n",
    "df = pd.read_html(url, attrs = {'class': 'news_table'}, encoding='utf-8')"
   ]
  },
  {
   "cell_type": "code",
   "execution_count": 7,
   "metadata": {},
   "outputs": [
    {
     "data": {
      "text/plain": [
       "[       Дата  Закрытие  Открытие  Максимум  Минимум\n",
       " 0  19.11.21     11280     11372     11376    11250\n",
       " 1  18.11.21     11374     11321     11376    11313\n",
       " 2  17.11.21     11321     11324     11334    11263\n",
       " 3  16.11.21     11323     11370     11388    11307\n",
       " 4  15.11.21     11369     11443     11467    11356\n",
       " 5  14.11.21     11443     11451     11454    11443\n",
       " 6  12.11.21     11445     11451     11463    11433\n",
       " 7  11.11.21     11452     11482     11491    11443\n",
       " 8  10.11.21     11481     11593     11598    11476,\n",
       "        Имя  Unnamed: 1     %    курс                 Дата\n",
       " 0  EUR/RUB         NaN -2664    8293  20.11.2021 01:02:00\n",
       " 1  USD/RUB         NaN  4938  734725  20.11.2021 01:00:00\n",
       " 2  CHF/RUB         NaN  -652  791283  20.11.2021 07:09:00\n",
       " 3  JPY/RUB         NaN  -552    6444  20.11.2021 07:09:00\n",
       " 4  GBP/RUB         NaN  -698  987913  20.11.2021 07:09:00\n",
       " 5  NOK/RUB         NaN    68    8245  20.11.2021 07:09:00\n",
       " 6  AUD/RUB         NaN   -26  531768  20.11.2021 07:09:00\n",
       " 7  NZD/RUB         NaN   946  515411  20.11.2021 07:09:00\n",
       " 8  TRY/RUB         NaN  -611   65409  20.11.2021 07:09:00]"
      ]
     },
     "execution_count": 7,
     "metadata": {},
     "output_type": "execute_result"
    }
   ],
   "source": [
    "df[:2]"
   ]
  }
 ],
 "metadata": {
  "kernelspec": {
   "display_name": "Python 3",
   "language": "python",
   "name": "python3"
  },
  "language_info": {
   "codemirror_mode": {
    "name": "ipython",
    "version": 3
   },
   "file_extension": ".py",
   "mimetype": "text/x-python",
   "name": "python",
   "nbconvert_exporter": "python",
   "pygments_lexer": "ipython3",
   "version": "3.8.5"
  }
 },
 "nbformat": 4,
 "nbformat_minor": 4
}
