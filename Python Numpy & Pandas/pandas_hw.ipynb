{
 "cells": [
  {
   "cell_type": "markdown",
   "metadata": {},
   "source": [
    "# Задание 1"
   ]
  },
  {
   "cell_type": "code",
   "execution_count": 1,
   "metadata": {},
   "outputs": [],
   "source": [
    "import pandas as pd"
   ]
  },
  {
   "cell_type": "code",
   "execution_count": 5,
   "metadata": {},
   "outputs": [
    {
     "data": {
      "text/html": [
       "<div>\n",
       "<style scoped>\n",
       "    .dataframe tbody tr th:only-of-type {\n",
       "        vertical-align: middle;\n",
       "    }\n",
       "\n",
       "    .dataframe tbody tr th {\n",
       "        vertical-align: top;\n",
       "    }\n",
       "\n",
       "    .dataframe thead th {\n",
       "        text-align: right;\n",
       "    }\n",
       "</style>\n",
       "<table border=\"1\" class=\"dataframe\">\n",
       "  <thead>\n",
       "    <tr style=\"text-align: right;\">\n",
       "      <th></th>\n",
       "      <th>userId</th>\n",
       "      <th>rating</th>\n",
       "      <th>timestamp</th>\n",
       "    </tr>\n",
       "    <tr>\n",
       "      <th>movieId</th>\n",
       "      <th></th>\n",
       "      <th></th>\n",
       "      <th></th>\n",
       "    </tr>\n",
       "  </thead>\n",
       "  <tbody>\n",
       "    <tr>\n",
       "      <th>318</th>\n",
       "      <td>153</td>\n",
       "      <td>153</td>\n",
       "      <td>153</td>\n",
       "    </tr>\n",
       "  </tbody>\n",
       "</table>\n",
       "</div>"
      ],
      "text/plain": [
       "         userId  rating  timestamp\n",
       "movieId                           \n",
       "318         153     153        153"
      ]
     },
     "execution_count": 5,
     "metadata": {},
     "output_type": "execute_result"
    }
   ],
   "source": [
    "data = pd.read_csv('ratings.csv')\n",
    "res = data.loc[data['rating'] == 5.0].groupby('movieId').count()\n",
    "res.sort_values(by = 'rating', ascending = False).head(1)"
   ]
  },
  {
   "cell_type": "markdown",
   "metadata": {},
   "source": [
    "# Задание 2"
   ]
  },
  {
   "cell_type": "code",
   "execution_count": 7,
   "metadata": {},
   "outputs": [
    {
     "name": "stdout",
     "output_type": "stream",
     "text": [
      "240580.0\n"
     ]
    }
   ],
   "source": [
    "power = pd.read_csv('power.csv')\n",
    "\n",
    "# выбор периода с 2005 по 2010 год + отсеивание отрицательных значений\n",
    "filt = power[(power['year'] >= 2005) & (power['year'] <= 2010) & (power['quantity'] > 0)] \n",
    "\n",
    "# фильтрация по нужным категориям\n",
    "cat = filt[filt.category.isin([4, 12, 21])]\n",
    "\n",
    "# фильтрация по нужным странам\n",
    "country = cat[cat.country.str.contains('|'.join(['Lat', 'Lit', 'Est']))]\n",
    "\n",
    "# суммарное потребление \n",
    "sum_q = country['quantity'].sum()\n",
    "\n",
    "print(sum_q)"
   ]
  },
  {
   "cell_type": "markdown",
   "metadata": {},
   "source": [
    "# Задание 3"
   ]
  },
  {
   "cell_type": "code",
   "execution_count": 8,
   "metadata": {},
   "outputs": [],
   "source": [
    "url = 'https://www.finanz.ru/valyuty/eur-usd'\n",
    "\n",
    "df = pd.read_html(url, attrs = {'class': 'news_table'}, encoding='utf-8')"
   ]
  },
  {
   "cell_type": "code",
   "execution_count": 9,
   "metadata": {},
   "outputs": [
    {
     "data": {
      "text/plain": [
       "[       Дата  Закрытие  Открытие  Максимум  Минимум\n",
       " 0  22.02.21     12160     12123     12171    12091\n",
       " 1  21.02.21     12127     12118     12129    12110\n",
       " 2  19.02.21     12120     12094     12146    12082\n",
       " 3  18.02.21     12092     12045     12097    12035\n",
       " 4  17.02.21     12046     12103     12106    12023\n",
       " 5  16.02.21     12104     12130     12171    12095\n",
       " 6  15.02.21     12130     12125     12147    12117\n",
       " 7  14.02.21     12123     12116     12126    12116\n",
       " 8  13.02.21     12119     12119     12119    12119,\n",
       "        Имя  Unnamed: 1      %     курс                 Дата\n",
       " 0  EUR/RUB         NaN  -6147   897405  23.02.2021 18:59:00\n",
       " 1  USD/RUB         NaN  -5827   738105  23.02.2021 18:59:00\n",
       " 2  CHF/RUB         NaN -10625   819815  23.02.2021 18:59:00\n",
       " 3  JPY/RUB         NaN  -6813     7019  23.02.2021 18:59:00\n",
       " 4  GBP/RUB         NaN  -3237  1041013  23.02.2021 18:59:00\n",
       " 5  NOK/RUB         NaN  -4316    87043  23.02.2021 18:59:00\n",
       " 6  AUD/RUB         NaN  -6234   583906  23.02.2021 18:59:00\n",
       " 7  NZD/RUB         NaN  -4587   541418  23.02.2021 18:59:00\n",
       " 8  TRY/RUB         NaN -12027   104427  23.02.2021 18:59:00]"
      ]
     },
     "execution_count": 9,
     "metadata": {},
     "output_type": "execute_result"
    }
   ],
   "source": [
    "df[:2]"
   ]
  }
 ],
 "metadata": {
  "kernelspec": {
   "display_name": "Python 3",
   "language": "python",
   "name": "python3"
  },
  "language_info": {
   "codemirror_mode": {
    "name": "ipython",
    "version": 3
   },
   "file_extension": ".py",
   "mimetype": "text/x-python",
   "name": "python",
   "nbconvert_exporter": "python",
   "pygments_lexer": "ipython3",
   "version": "3.8.5"
  }
 },
 "nbformat": 4,
 "nbformat_minor": 4
}
